{
 "cells": [
  {
   "cell_type": "code",
   "execution_count": 1,
   "id": "466958b2-76ca-4584-a8b7-11a8fb1797ef",
   "metadata": {},
   "outputs": [],
   "source": [
    "import pandas as pd\n",
    "import matplotlib.pyplot as plt\n",
    "import numpy as np\n",
    "from uncertainties import ufloat\n",
    "from uncertainties import umath\n",
    "from scipy.optimize import curve_fit"
   ]
  },
  {
   "cell_type": "code",
   "execution_count": 2,
   "id": "7101c8d4-b978-45c5-a4f2-2d4f6527a94d",
   "metadata": {},
   "outputs": [],
   "source": [
    "free_fall = pd.read_csv('Styro.csv')\n",
    "free_fall3_time = free_fall['Run 3:Time(s)']\n",
    "free_fall3_position = free_fall['Run 3:Position(m)']\n",
    "\n",
    "free_fall5_time = free_fall['Run 5:Time(s)']\n",
    "free_fall5_position = free_fall['Run 5:Position(m)']\n",
    "\n",
    "free_fall7_time = free_fall['Run 7:Time(s)']\n",
    "free_fall7_position = free_fall['Run 7:Position(m)']"
   ]
  },
  {
   "cell_type": "code",
   "execution_count": 3,
   "id": "747844c6-38d7-4270-8b57-e9299341438d",
   "metadata": {},
   "outputs": [],
   "source": [
    "def local_minima_finder(min_time, max_time, time_points, position_points):\n",
    "    time_indices = []\n",
    "    for i in time_points:\n",
    "        if min_time <= i <= max_time:\n",
    "            time_indices.append(list(time_points).index(i))\n",
    "    for time_index in np.arange(time_indices[0], time_indices[-1]):\n",
    "        if position_points[time_index] < position_points[time_index+1] and position_points[time_index] < position_points[time_index-1]:\n",
    "            minima_time_coord, minima_position_coord = time_points[time_index], position_points[time_index]\n",
    "    return minima_time_coord, minima_position_coord"
   ]
  },
  {
   "cell_type": "code",
   "execution_count": 4,
   "id": "9deafdfd-d57f-4a83-89da-7ae6ccc6f172",
   "metadata": {},
   "outputs": [],
   "source": [
    "def local_maxima_finder(min_time, max_time, time_points, position_points):\n",
    "    time_indices = []\n",
    "    for i in time_points:\n",
    "        if min_time <= i <= max_time:\n",
    "            time_indices.append(list(time_points).index(i))\n",
    "    for time_index in np.arange(time_indices[0], time_indices[-1]):\n",
    "        if position_points[time_index] > position_points[time_index+1] and position_points[time_index] > position_points[time_index-1]:\n",
    "            minima_time_coord, minima_position_coord = time_points[time_index], position_points[time_index]\n",
    "    return minima_time_coord, minima_position_coord"
   ]
  },
  {
   "cell_type": "markdown",
   "id": "8268be58-3b91-483e-9708-3f80dca0b434",
   "metadata": {},
   "source": [
    "# Run 3"
   ]
  },
  {
   "cell_type": "code",
   "execution_count": 5,
   "id": "742ecc6c-eb9c-4c55-8eca-d6e452806e2e",
   "metadata": {},
   "outputs": [
    {
     "data": {
      "text/plain": [
       "0.1716325227272727"
      ]
     },
     "execution_count": 5,
     "metadata": {},
     "output_type": "execute_result"
    }
   ],
   "source": [
    "positions = []\n",
    "for i in free_fall3_position:\n",
    "    if i <0.18:\n",
    "        positions.append(i)\n",
    "initial_height = sum(positions)/len(positions)\n",
    "initial_height"
   ]
  },
  {
   "cell_type": "code",
   "execution_count": 6,
   "id": "34b00c80-d32b-4b2e-b1a1-e23f93021207",
   "metadata": {
    "scrolled": true
   },
   "outputs": [
    {
     "name": "stdout",
     "output_type": "stream",
     "text": [
      "First floor coordinate is at(1.75, 0.3651234999999999)\n",
      "First bounce height is at (1.95, 0.2166045)\n",
      "Second floor coordinate is at(2.125, 0.3592925)\n",
      "Second bounce height is at (2.275, 0.2786874999999999)\n",
      "Third floor coordinate is at(2.425, 0.36701)\n",
      "Third bounce height is at (2.55, 0.3123015)\n",
      "Fourth floor coordinate is at(2.675, 0.364952)\n",
      "Fourth bounce height is at (2.75, 0.333739)\n"
     ]
    }
   ],
   "source": [
    "# First bounce height and floor coordinate\n",
    "floor1 = local_maxima_finder(1.60, 1.95, free_fall3_time, free_fall3_position )\n",
    "bounce_height1 = local_minima_finder(1.80, 2.05, free_fall3_time, free_fall3_position )\n",
    "\n",
    "# Second bounce height and floor coordinate\n",
    "floor2 = local_maxima_finder(1.95, 2.3, free_fall3_time, free_fall3_position )\n",
    "bounce_height2 = local_minima_finder(2.2, 2.35, free_fall3_time, free_fall3_position )\n",
    "\n",
    "# Third bounce height and floor coordinate\n",
    "floor3 = local_maxima_finder(2.3, 2.6, free_fall3_time, free_fall3_position )\n",
    "bounce_height3 = local_minima_finder(2.5, 2.7, free_fall3_time, free_fall3_position )\n",
    "\n",
    "# Fourth bounce height and floor coordinate\n",
    "floor4 = local_maxima_finder(2.6, 2.8, free_fall3_time, free_fall3_position )\n",
    "bounce_height4 = local_minima_finder(2.70, 2.85, free_fall3_time, free_fall3_position )\n",
    "\n",
    "print(f'First floor coordinate is at{floor1}')\n",
    "print(f'First bounce height is at {bounce_height1}')\n",
    "\n",
    "print(f'Second floor coordinate is at{floor2}')\n",
    "print(f'Second bounce height is at {bounce_height2}')\n",
    "\n",
    "print(f'Third floor coordinate is at{floor3}')\n",
    "print(f'Third bounce height is at {bounce_height3}')\n",
    "\n",
    "print(f'Fourth floor coordinate is at{floor4}')\n",
    "print(f'Fourth bounce height is at {bounce_height4}')"
   ]
  },
  {
   "cell_type": "code",
   "execution_count": 7,
   "id": "56aee74b-683c-4982-8bbc-c1bc1a474d1c",
   "metadata": {
    "scrolled": true
   },
   "outputs": [
    {
     "data": {
      "image/png": "[encoded data removed]",
      "text/plain": [
       "<Figure size 266.701x200.025 with 1 Axes>"
      ]
     },
     "metadata": {},
     "output_type": "display_data"
    }
   ],
   "source": [
    "plt.figure(figsize = ((21/2.54)/3.1, ((21/2.54)/3.1)*3/4), facecolor = \"white\")\n",
    "\n",
    "plt.scatter(floor1[0], floor1[1], color ='orange', zorder = 2)\n",
    "plt.annotate(f'({floor1[0]:.2f}, {floor1[1]:.2f})', (floor1[0], floor1[1]), xytext = (floor1[0] + 0.01, floor1[1]+ 0.01), fontsize = 4, ha = 'center', va = 'center')\n",
    "plt.scatter(bounce_height1[0], bounce_height1[1], color ='orange', zorder = 2)\n",
    "plt.annotate(f'({bounce_height1[0]:.2f}, {bounce_height1[1]:.2f})', (bounce_height1[0], bounce_height1[1]), xytext = (bounce_height1[0] - 0.01, bounce_height1[1] - 0.01), fontsize = 4, ha = 'center', va = 'center')\n",
    "\n",
    "plt.scatter(floor2[0], floor2[1], color ='orange', zorder = 2)\n",
    "plt.annotate(f'({floor2[0]:.2f}, {floor2[1]:.2f})', (floor2[0], floor2[1]), xytext = (floor2[0] + 0.01, floor2[1]+ 0.01),fontsize = 4, ha = 'center', va = 'center' )\n",
    "plt.scatter(bounce_height2[0], bounce_height2[1], color ='orange', zorder = 2)\n",
    "plt.annotate(f'({bounce_height2[0]:.2f}, {bounce_height2[1]:.2f})', (bounce_height2[0], bounce_height2[1]), xytext = (bounce_height2[0] - 0.01, bounce_height2[1] - 0.01),fontsize = 4, ha = 'center', va = 'center' )\n",
    "\n",
    "plt.scatter(floor3[0], floor3[1], color ='orange', zorder = 2)\n",
    "plt.annotate(f'({floor3[0]:.2f}, {floor3[1]:.2f})', (floor3[0], floor3[1]), xytext = (floor3[0] + 0.01, floor3[1]+ 0.01),fontsize = 4, ha = 'center', va = 'center' )\n",
    "plt.scatter(bounce_height3[0], bounce_height3[1], color ='orange', zorder = 2)\n",
    "plt.annotate(f'({bounce_height3[0]:.2f}, {bounce_height3[1]:.2f})', (bounce_height3[0], bounce_height3[1]), xytext = (bounce_height3[0] - 0.01, bounce_height3[1] - 0.01),fontsize = 4, ha = 'center', va = 'center' )\n",
    "\"\"\"\n",
    "plt.scatter(floor4[0], floor4[1], color ='orange', zorder = 2)\n",
    "plt.annotate(f'({floor4[0]:.2f}, {floor4[1]:.2f})', (floor4[0], floor4[1]), xytext = (floor4[0] + 0.01, floor4[1]+ 0.01), ha = 'center', va = 'center' )\n",
    "plt.scatter(bounce_height4[0], bounce_height4[1], color ='orange', zorder = 2)\n",
    "plt.annotate(f'({bounce_height4[0]:.2f}, {bounce_height4[1]:.2f})', (bounce_height4[0], bounce_height4[1]), xytext = (bounce_height4[0] - 0.01, bounce_height4[1] - 0.01), ha = 'center', va = 'center' )\n",
    "\"\"\"\n",
    "plt.plot(free_fall3_time,free_fall3_position, 'o--', lw = 0.9, ms = 2, zorder = 3)\n",
    "plt.axhline(initial_height, color = 'g', label = f' {initial_height:.3f} ')\n",
    "plt.xlim(1.25, 3.0)\n",
    "#plt.ylim(0.15, 0.2)\n",
    "plt.ylabel('Position (m)', fontsize = 10, fontfamily = 'serif')\n",
    "plt.xlabel('Time (s)', fontsize = 10, fontfamily = 'serif')\n",
    "plt.tick_params(axis = 'both', which = 'major',labelsize = 8)\n",
    "plt.legend(fontsize = 6, loc = 'lower left', bbox_to_anchor=(0.63,0.12),  frameon = False)\n",
    "plt.tight_layout()\n",
    "plt.savefig('Run3_Restitution.pdf')\n",
    "plt.show()"
   ]
  },
  {
   "cell_type": "markdown",
   "id": "c0f41c9f-f9bf-474d-b9cf-fa9df61b042e",
   "metadata": {},
   "source": [
    "## Coefficient of Restituion for Run 3"
   ]
  },
  {
   "cell_type": "markdown",
   "id": "df1947ab-23de-448d-9738-68be1c9a9980",
   "metadata": {},
   "source": [
    "$ e  = \\displaystyle \\sqrt{\\frac{h_b}{h_d}}$ where $h_b \\equiv$ bounce height and $h_d \\equiv$ drop height"
   ]
  },
  {
   "cell_type": "code",
   "execution_count": 8,
   "id": "ab799758-7cb4-4634-b1cf-2879dbea56e8",
   "metadata": {},
   "outputs": [
    {
     "data": {
      "text/plain": [
       "0.36380866666666667"
      ]
     },
     "execution_count": 8,
     "metadata": {},
     "output_type": "execute_result"
    }
   ],
   "source": [
    "mean_floor1 = np.mean([floor1[1], floor2[1], floor3[1]])\n",
    "mean_floor1"
   ]
  },
  {
   "cell_type": "code",
   "execution_count": 9,
   "id": "57f6efef-4ab3-4b76-a66c-e0b0cc53ac36",
   "metadata": {},
   "outputs": [
    {
     "name": "stdout",
     "output_type": "stream",
     "text": [
      "The coefficient of resititution after the first bounce is 0.7659856403045011\n",
      "The coefficient of resititution after the second bounce is 0.5782524271844666\n",
      "The coefficient of restitution after the third bounce is 0.6051040967092002\n"
     ]
    }
   ],
   "source": [
    "print(f'The coefficient of resititution after the first bounce is {(mean_floor1- bounce_height1[1]) /(mean_floor1 - initial_height)}')\n",
    "print(f'The coefficient of resititution after the second bounce is {(mean_floor1 - bounce_height2[1]) /(mean_floor1-bounce_height1[1])}')\n",
    "print(f'The coefficient of restitution after the third bounce is {(mean_floor1 - bounce_height3[1]) /(mean_floor1-bounce_height2[1])}')"
   ]
  },
  {
   "cell_type": "markdown",
   "id": "11a7c265-abb0-4542-adda-b47287dd9fc9",
   "metadata": {},
   "source": []
  },
  {
   "cell_type": "code",
   "execution_count": 10,
   "id": "9d825edf-cd7d-44f7-98ed-7dea79db8d05",
   "metadata": {},
   "outputs": [
    {
     "data": {
      "text/plain": [
       "0.1724028018867924"
      ]
     },
     "execution_count": 10,
     "metadata": {},
     "output_type": "execute_result"
    }
   ],
   "source": [
    "positions5 = []\n",
    "for i in free_fall5_position:\n",
    "    if i <0.18:\n",
    "        positions5.append(i)\n",
    "initial_height5 = sum(positions5)/len(positions5)\n",
    "initial_height5"
   ]
  },
  {
   "cell_type": "markdown",
   "id": "1e449706-6bb4-41ff-b1b7-af58db61ef30",
   "metadata": {},
   "source": [
    "# Run 5"
   ]
  },
  {
   "cell_type": "code",
   "execution_count": 11,
   "id": "d0c336bb-0876-4d78-b59e-50284c1287f1",
   "metadata": {},
   "outputs": [
    {
     "name": "stdout",
     "output_type": "stream",
     "text": [
      "First floor coordinate is at(1.55, 0.4964925)\n",
      "First bounce height is at (1.75, 0.3140164999999999)\n",
      "Second floor coordinate is at(1.975, 0.4959779999999999)\n",
      "Second bounce height is at (2.1, 0.4107425)\n",
      "Third floor coordinate is at(2.275, 0.5067825)\n",
      "Third bounce height is at (2.375, 0.457562)\n"
     ]
    }
   ],
   "source": [
    "# First bounce height and floor coordinate\n",
    "floor1_5 = local_maxima_finder(1.25, 1.75, free_fall5_time, free_fall5_position )\n",
    "bounce_height1_5 = local_minima_finder(1.55, 1.9, free_fall5_time, free_fall5_position )\n",
    "\n",
    "# Second bounce height and floor coordinate\n",
    "floor2_5 = local_maxima_finder(1.8, 2.2, free_fall5_time, free_fall5_position )\n",
    "bounce_height2_5 = local_minima_finder(1.95, 2.2, free_fall5_time, free_fall5_position )\n",
    "\n",
    "# Third bounce height and floor coordinate\n",
    "floor3_5 = local_maxima_finder(2.2, 2.35, free_fall5_time, free_fall5_position )\n",
    "bounce_height3_5 = local_minima_finder(2.3, 2.5, free_fall5_time, free_fall5_position )\n",
    "\n",
    "\n",
    "print(f'First floor coordinate is at{floor1_5}')\n",
    "print(f'First bounce height is at {bounce_height1_5}')\n",
    "\n",
    "print(f'Second floor coordinate is at{floor2_5}')\n",
    "print(f'Second bounce height is at {bounce_height2_5}')\n",
    "\n",
    "print(f'Third floor coordinate is at{floor3_5}')\n",
    "print(f'Third bounce height is at {bounce_height3_5}')"
   ]
  },
  {
   "cell_type": "code",
   "execution_count": 12,
   "id": "7dd86b23-bb0e-4c62-b124-ce62cfd376a8",
   "metadata": {
    "scrolled": true
   },
   "outputs": [
    {
     "data": {
      "image/png": "[encoded data removed]",
      "text/plain": [
       "<Figure size 266.701x200.025 with 1 Axes>"
      ]
     },
     "metadata": {},
     "output_type": "display_data"
    }
   ],
   "source": [
    "plt.figure(figsize = ((21/2.54)/3.1, ((21/2.54)/3.1)*3/4), facecolor = \"white\")\n",
    "\n",
    "plt.scatter(floor1_5[0], floor1_5[1], color ='orange', zorder = 2)\n",
    "plt.annotate(f'({floor1_5[0]:.2f}, {floor1_5[1]:.2f})', (floor1_5[0], floor1_5[1]), xytext = (floor1_5[0] + 0.01, floor1_5[1]+ 0.02), fontsize = 4,ha = 'center', va = 'center')\n",
    "plt.scatter(bounce_height1_5[0], bounce_height1_5[1], color ='orange', zorder = 2)\n",
    "plt.annotate(f'({bounce_height1_5[0]:.2f}, {bounce_height1_5[1]:.2f})', (bounce_height1_5[0], bounce_height1_5[1]), xytext = (bounce_height1_5[0] - 0.02, bounce_height1_5[1] - 0.03), fontsize = 4,ha = 'center', va = 'center')\n",
    "\n",
    "plt.scatter(floor2_5[0], floor2_5[1], color ='orange', zorder = 2)\n",
    "plt.annotate(f'({floor2_5[0]:.2f}, {floor2_5[1]:.2f})', (floor2_5[0], floor2_5[1]), xytext = (floor2_5[0] + 0.01, floor2_5[1]+ 0.02), fontsize = 4,ha = 'center', va = 'center' )\n",
    "plt.scatter(bounce_height2_5[0], bounce_height2_5[1], color ='orange', zorder = 2)\n",
    "plt.annotate(f'({bounce_height2_5[0]:.2f}, {bounce_height2_5[1]:.2f})', (bounce_height2_5[0], bounce_height2_5[1]), xytext = (bounce_height2_5[0] - 0.02, bounce_height2_5[1] - 0.03),fontsize = 4, ha = 'center', va = 'center' )\n",
    "\n",
    "plt.scatter(floor3_5[0], floor3_5[1], color ='orange', zorder = 2)\n",
    "plt.annotate(f'({floor3_5[0]:.2f}, {floor3_5[1]:.2f})', (floor3_5[0], floor3_5[1]), xytext = (floor3_5[0] + 0.02, floor3_5[1]+ 0.02), fontsize = 4,ha = 'center', va = 'center' )\n",
    "plt.scatter(bounce_height3_5[0], bounce_height3_5[1], color ='orange', zorder = 2)\n",
    "plt.annotate(f'({bounce_height3_5[0]:.2f}, {bounce_height3_5[1]:.2f})', (bounce_height3_5[0], bounce_height3_5[1]), xytext = (bounce_height3_5[0] +0.02, bounce_height3_5[1] - 0.03),fontsize = 4, ha = 'center', va = 'center' )\n",
    "\n",
    "\n",
    "plt.plot(free_fall5_time, free_fall5_position, 'o--', lw = 0.8, ms = 2 )\n",
    "plt.axhline(initial_height5, color = 'g', label = f' {initial_height5:.3f} ')\n",
    "plt.xlim(1.25, 2.75)\n",
    "plt.ylabel('Position (m)', fontsize = 10, fontfamily = 'serif')\n",
    "plt.xlabel('Time (s)', fontsize = 10, fontfamily = 'serif')\n",
    "plt.tick_params(axis = 'both', which = 'major',labelsize = 7)\n",
    "plt.legend(fontsize = 6, loc = 'lower left', bbox_to_anchor=(0.63,0.12),  frameon = False)\n",
    "plt.tight_layout()\n",
    "plt.savefig('Run5_Restitution.pdf')\n",
    "plt.show()"
   ]
  },
  {
   "cell_type": "markdown",
   "id": "d0c5495e-0c62-426a-b242-a51b91a6a470",
   "metadata": {},
   "source": [
    "# Run 7"
   ]
  },
  {
   "cell_type": "code",
   "execution_count": 13,
   "id": "bbcbdf82-8cf1-41ea-936c-f232837b36d5",
   "metadata": {},
   "outputs": [
    {
     "data": {
      "text/plain": [
       "0.1709107435897436"
      ]
     },
     "execution_count": 13,
     "metadata": {},
     "output_type": "execute_result"
    }
   ],
   "source": [
    "positions7 = []\n",
    "for i in free_fall7_position:\n",
    "    if i <0.18:\n",
    "        positions7.append(i)\n",
    "initial_height7 = sum(positions7)/len(positions7)\n",
    "initial_height7"
   ]
  },
  {
   "cell_type": "code",
   "execution_count": 14,
   "id": "7be30ed3-853d-4e64-a259-15f8d73d6940",
   "metadata": {},
   "outputs": [
    {
     "name": "stdout",
     "output_type": "stream",
     "text": [
      "First floor coordinate is at(2.1, 0.47677)\n",
      "First bounce height is at [2.3, 0.3157315]\n",
      "Second floor coordinate is at(2.525, 0.5009514999999999)\n",
      "Second bounce height is at (2.675, 0.3970224999999998)\n",
      "Third floor coordinate is at(2.85, 0.4934054999999998)\n",
      "Third bounce height is at (2.95, 0.446243)\n"
     ]
    }
   ],
   "source": [
    "# First bounce height and floor coordinate\n",
    "floor1_7 = local_maxima_finder(2.0, 2.2, free_fall7_time, free_fall7_position )\n",
    "bounce_height1_7 = [free_fall7_time.iloc[92], free_fall7_position.iloc[92]] #local_minima_finder(2.2, 2.4, free_fall7_time, free_fall7_position )\n",
    "\n",
    "# Second bounce height and floor coordinate\n",
    "floor2_7 = local_maxima_finder(2.4, 2.6, free_fall7_time, free_fall7_position )\n",
    "bounce_height2_7 = local_minima_finder(2.6, 2.8, free_fall7_time, free_fall7_position )\n",
    "\n",
    "# Third bounce height and floor coordinate\n",
    "floor3_7 = local_maxima_finder(2.7, 2.95, free_fall7_time, free_fall7_position )\n",
    "bounce_height3_7 = local_minima_finder(2.9, 3.1, free_fall7_time, free_fall7_position )\n",
    "\n",
    "\n",
    "print(f'First floor coordinate is at{floor1_7}')\n",
    "print(f'First bounce height is at {bounce_height1_7}')\n",
    "\n",
    "print(f'Second floor coordinate is at{floor2_7}')\n",
    "print(f'Second bounce height is at {bounce_height2_7}')\n",
    "\n",
    "print(f'Third floor coordinate is at{floor3_7}')\n",
    "print(f'Third bounce height is at {bounce_height3_7}')"
   ]
  },
  {
   "cell_type": "code",
   "execution_count": 15,
   "id": "2a25d64d-fffb-4979-a3b6-0a608f8f5b94",
   "metadata": {
    "scrolled": true
   },
   "outputs": [
    {
     "data": {
      "image/png": "[encoded data removed]",
      "text/plain": [
       "<Figure size 266.701x200.025 with 1 Axes>"
      ]
     },
     "metadata": {},
     "output_type": "display_data"
    }
   ],
   "source": [
    "plt.figure(figsize = ((21/2.54)/3.1, ((21/2.54)/3.1)*3/4), facecolor = \"white\")\n",
    "\n",
    "plt.scatter(floor1_7[0], floor1_7[1], color ='orange', zorder = 2)\n",
    "plt.annotate(f'({floor1_7[0]:.2f}, {floor1_7[1]:.2f})', (floor1_7[0], floor1_7[1]), xytext = (floor1_7[0] + 0.01, floor1_7[1]+ 0.02), fontsize = 4, ha = 'center', va = 'center')\n",
    "plt.scatter(bounce_height1_7[0], bounce_height1_7[1], color ='orange', zorder = 2)\n",
    "plt.annotate(f'({bounce_height1_7[0]:.2f}, {bounce_height1_7[1]:.2f})', (bounce_height1_7[0], bounce_height1_7[1]), xytext = (bounce_height1_7[0] - 0.02, bounce_height1_7[1] - 0.02),fontsize = 4, ha = 'center', va = 'center')\n",
    "\n",
    "plt.scatter(floor2_7[0], floor2_7[1], color ='orange', zorder = 2)\n",
    "plt.annotate(f'({floor2_7[0]:.2f}, {floor2_7[1]:.2f})', (floor2_7[0], floor2_7[1]), xytext = (floor2_7[0] + 0.01, floor2_7[1]+ 0.02),fontsize = 4, ha = 'center', va = 'center' )\n",
    "plt.scatter(bounce_height2_7[0], bounce_height2_7[1], color ='orange', zorder = 2)\n",
    "plt.annotate(f'({bounce_height2_7[0]:.2f}, {bounce_height2_7[1]:.2f})', (bounce_height2_7[0], bounce_height2_7[1]), xytext = (bounce_height2_7[0] - 0.02, bounce_height2_7[1] - 0.02),fontsize = 4, ha = 'center', va = 'center' )\n",
    "\n",
    "plt.scatter(floor3_7[0], floor3_7[1], color ='orange', zorder = 2)\n",
    "plt.annotate(f'({floor3_7[0]:.2f}, {floor3_7[1]:.2f})', (floor3_7[0], floor3_7[1]), xytext = (floor3_7[0] + 0.01, floor3_7[1]+ 0.02), fontsize = 4,ha = 'center', va = 'center' )\n",
    "plt.scatter(bounce_height3_7[0], bounce_height3_7[1], color ='orange', zorder = 2)\n",
    "plt.annotate(f'({bounce_height3_7[0]:.2f}, {bounce_height3_7[1]:.2f})', (bounce_height3_7[0], bounce_height3_7[1]), xytext = (bounce_height3_7[0] +0.02, bounce_height3_7[1] - 0.02), fontsize = 4,ha = 'center', va = 'center' )\n",
    "\n",
    "\n",
    "plt.plot(free_fall7_time, free_fall7_position, 'o--', lw = 0.8, ms = 2)\n",
    "plt.axhline(initial_height7, color = 'g', label = f' {initial_height7:.3f} ')\n",
    "plt.xlim(1.75, 3.5)\n",
    "plt.ylim(0.15, 0.55)\n",
    "plt.ylabel('Position (m)', fontsize = 10, fontfamily = 'serif')\n",
    "plt.xlabel('Time (s)', fontsize = 10, fontfamily = 'serif')\n",
    "plt.tick_params(axis = 'both', which = 'major',labelsize = 7)\n",
    "plt.legend(fontsize = 6, loc = 'lower left', bbox_to_anchor=(0.63,0.10),  frameon = False)\n",
    "plt.tight_layout()\n",
    "plt.savefig('Run7_Restitution.pdf')\n",
    "plt.show()"
   ]
  },
  {
   "cell_type": "code",
   "execution_count": 16,
   "id": "e5467f20-30f1-4954-a6c7-102b4c640e72",
   "metadata": {
    "scrolled": true
   },
   "outputs": [
    {
     "name": "stdout",
     "output_type": "stream",
     "text": [
      "The coefficient of resititution in the first run after the first bounce is 0.7675758430361385\n",
      "The coefficient of resititution in the first run after the second bounce is 0.5649038461538468\n",
      "The coefficient of restitution in the first run after the third bounce is 0.6194174757281546\n"
     ]
    }
   ],
   "source": [
    "print(f'The coefficient of resititution in the first run after the first bounce is {(floor1[1] - bounce_height1[1]) /(floor1[1] - initial_height)}')\n",
    "print(f'The coefficient of resititution in the first run after the second bounce is {(floor2[1] - bounce_height2[1]) /(floor2[1]-bounce_height1[1])}')\n",
    "print(f'The coefficient of restitution in the first run after the third bounce is {(floor3[1] - bounce_height3[1]) /(floor3[1]-bounce_height2[1])}')"
   ]
  },
  {
   "cell_type": "code",
   "execution_count": 17,
   "id": "7ca49987-bc52-4209-9b0b-981160e158f2",
   "metadata": {},
   "outputs": [
    {
     "data": {
      "text/plain": [
       "0.6506323883060466"
      ]
     },
     "execution_count": 17,
     "metadata": {},
     "output_type": "execute_result"
    }
   ],
   "source": [
    "np.mean([(floor1[1] - bounce_height1[1]) /(floor1[1] - initial_height),(floor2[1] - bounce_height2[1]) /(floor2[1]-bounce_height1[1]) , (floor3[1] - bounce_height3[1]) /(floor3[1]-bounce_height2[1])])"
   ]
  },
  {
   "cell_type": "code",
   "execution_count": 18,
   "id": "0f491a1c-4e41-4446-a0d9-179540c00fe7",
   "metadata": {},
   "outputs": [
    {
     "data": {
      "text/plain": [
       "0.5766774952871698"
      ]
     },
     "execution_count": 18,
     "metadata": {},
     "output_type": "execute_result"
    }
   ],
   "source": [
    "#Energy loss\n",
    "1 - (0.6506323883060466)**2"
   ]
  },
  {
   "cell_type": "code",
   "execution_count": 19,
   "id": "778bf14b-f858-4273-afbc-061e09f7d863",
   "metadata": {},
   "outputs": [
    {
     "name": "stdout",
     "output_type": "stream",
     "text": [
      "The coefficient of resititution in the fifth run after the first bounce is 0.5630416550181718\n",
      "The coefficient of resititution in the fifth run after the second bounce is 0.46842601319509847\n",
      "The coefficient of restitution in the fifth run after the third bounce is 0.5125\n"
     ]
    }
   ],
   "source": [
    "print(f'The coefficient of resititution in the fifth run after the first bounce is {(floor1_5[1] - bounce_height1_5[1]) /(floor1_5[1] - initial_height5)}')\n",
    "print(f'The coefficient of resititution in the fifth run after the second bounce is {(floor2_5[1] - bounce_height2_5[1]) /(floor2_5[1]-bounce_height1_5[1])}')\n",
    "print(f'The coefficient of restitution in the fifth run after the third bounce is {(floor3_5[1] - bounce_height3_5[1]) /(floor3_5[1]-bounce_height2_5[1])}')"
   ]
  },
  {
   "cell_type": "code",
   "execution_count": 20,
   "id": "f1ad206d-0c4d-41ad-a422-b908eec70587",
   "metadata": {},
   "outputs": [
    {
     "name": "stdout",
     "output_type": "stream",
     "text": [
      "The coefficient of restitution in the seventh run after the first bounce is 0.5265117750237226\n",
      "The coefficient of restitution in the seventh run after the second bounce is 0.561111111111112\n",
      "The coefficient of restitution in the seventh run after the seventh bounce is 0.48932384341636775\n"
     ]
    }
   ],
   "source": [
    "print(f'The coefficient of restitution in the seventh run after the first bounce is {(floor1_7[1] - bounce_height1_7[1]) /(floor1_7[1] - initial_height7)}')\n",
    "print(f'The coefficient of restitution in the seventh run after the second bounce is {(floor2_7[1] - bounce_height2_7[1]) /(floor2_7[1]-bounce_height1_7[1])}')\n",
    "print(f'The coefficient of restitution in the seventh run after the seventh bounce is {(floor3_7[1] - bounce_height3_7[1]) /(floor3_7[1]-bounce_height2_7[1])}')"
   ]
  }
 ],
 "metadata": {
  "kernelspec": {
   "display_name": "Python 3 (ipykernel)",
   "language": "python",
   "name": "python3"
  },
  "language_info": {
   "codemirror_mode": {
    "name": "ipython",
    "version": 3
   },
   "file_extension": ".py",
   "mimetype": "text/x-python",
   "name": "python",
   "nbconvert_exporter": "python",
   "pygments_lexer": "ipython3",
   "version": "3.9.21"
  }
 },
 "nbformat": 4,
 "nbformat_minor": 5
}
